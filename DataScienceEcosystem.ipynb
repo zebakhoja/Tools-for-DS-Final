{
 "cells": [
  {
   "cell_type": "markdown",
   "id": "94ff87f3",
   "metadata": {},
   "source": [
    "# Data Science Tools and Ecosystem"
   ]
  },
  {
   "cell_type": "markdown",
   "id": "1822fd04",
   "metadata": {},
   "source": [
    "In this notebook, Data Science Tools and Ecosystem are summarized."
   ]
  },
  {
   "cell_type": "markdown",
   "id": "0b6b52e7",
   "metadata": {},
   "source": [
    "Some of the popular languages that Data Scientists use are:"
   ]
  },
  {
   "cell_type": "markdown",
   "id": "3b9438be",
   "metadata": {},
   "source": [
    "1. R"
   ]
  },
  {
   "cell_type": "markdown",
   "id": "94aaf018",
   "metadata": {},
   "source": [
    "2. Python"
   ]
  },
  {
   "cell_type": "markdown",
   "id": "806453ba",
   "metadata": {},
   "source": [
    "3. Java"
   ]
  },
  {
   "cell_type": "markdown",
   "id": "0dbc0fc8",
   "metadata": {},
   "source": [
    "Some of the commonly used libraries used by Data Scientists include:"
   ]
  },
  {
   "cell_type": "markdown",
   "id": "ba688cfe",
   "metadata": {},
   "source": [
    "1. NumPy"
   ]
  },
  {
   "cell_type": "markdown",
   "id": "10bdce2c",
   "metadata": {},
   "source": [
    "2. SciKit-Learn"
   ]
  },
  {
   "cell_type": "markdown",
   "id": "28159238",
   "metadata": {},
   "source": [
    "3. Keras"
   ]
  },
  {
   "cell_type": "markdown",
   "id": "72983234",
   "metadata": {},
   "source": [
    "|Data Science Tools|\n",
    "|:----------------:|\n",
    "|    R Studio      |\n",
    "|    Anaconda      |\n",
    "|    Spark         |"
   ]
  },
  {
   "cell_type": "markdown",
   "id": "43b26292",
   "metadata": {},
   "source": [
    "### Below are a few examples of evaluating arithmetic expressions in Python"
   ]
  },
  {
   "cell_type": "markdown",
   "id": "c97bae1c",
   "metadata": {},
   "source": [
    "This a simple arithmetic expression to mutiply then add integers"
   ]
  },
  {
   "cell_type": "code",
   "execution_count": 1,
   "id": "e3af6ef7",
   "metadata": {},
   "outputs": [
    {
     "data": {
      "text/plain": [
       "17"
      ]
     },
     "execution_count": 1,
     "metadata": {},
     "output_type": "execute_result"
    }
   ],
   "source": [
    "(3*4)+5"
   ]
  },
  {
   "cell_type": "markdown",
   "id": "aaab340d",
   "metadata": {},
   "source": [
    "This will convert 200 minutes to hours by diving by 6"
   ]
  },
  {
   "cell_type": "code",
   "execution_count": 2,
   "id": "ff6f76fd",
   "metadata": {},
   "outputs": [
    {
     "data": {
      "text/plain": [
       "3.3333333333333335"
      ]
     },
     "execution_count": 2,
     "metadata": {},
     "output_type": "execute_result"
    }
   ],
   "source": [
    "200/60"
   ]
  },
  {
   "cell_type": "markdown",
   "id": "15a0423d",
   "metadata": {},
   "source": [
    "__Objectives:__"
   ]
  },
  {
   "cell_type": "markdown",
   "id": "d0d78691",
   "metadata": {},
   "source": [
    "- List popular languages for Data Science"
   ]
  },
  {
   "cell_type": "markdown",
   "id": "d0a3b5be",
   "metadata": {},
   "source": [
    "- List popular libraries for Data Science"
   ]
  },
  {
   "cell_type": "markdown",
   "id": "8661b85d",
   "metadata": {},
   "source": [
    "- List popular tools for Data Science"
   ]
  },
  {
   "cell_type": "markdown",
   "id": "39570a05",
   "metadata": {},
   "source": [
    "## Author"
   ]
  },
  {
   "cell_type": "markdown",
   "id": "1a0e1c74",
   "metadata": {},
   "source": [
    "Zeba Khoja"
   ]
  }
 ],
 "metadata": {
  "kernelspec": {
   "display_name": "Python 3 (ipykernel)",
   "language": "python",
   "name": "python3"
  },
  "language_info": {
   "codemirror_mode": {
    "name": "ipython",
    "version": 3
   },
   "file_extension": ".py",
   "mimetype": "text/x-python",
   "name": "python",
   "nbconvert_exporter": "python",
   "pygments_lexer": "ipython3",
   "version": "3.11.3"
  }
 },
 "nbformat": 4,
 "nbformat_minor": 5
}
